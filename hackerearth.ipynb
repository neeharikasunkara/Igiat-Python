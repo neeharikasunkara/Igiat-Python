{
 "cells": [
  {
   "cell_type": "code",
   "execution_count": 16,
   "metadata": {},
   "outputs": [
    {
     "name": "stdout",
     "output_type": "stream",
     "text": [
      "38\n",
      "4\n"
     ]
    }
   ],
   "source": [
    "## Special number\n",
    "def specialnumbercheck(n):\n",
    "    list3=[]\n",
    "    list5=[]\n",
    "    list7=[]\n",
    "    fp=10\n",
    "    for i in range(1,11):\n",
    "        list3.append(3**i)\n",
    "        list5.append(5**i)\n",
    "        list7.append(7**i)\n",
    "    for i in range(10):\n",
    "        for j in range(10):\n",
    "            if list3[i]+list5[j]==n or list3[i]+list7[j]==n or list5[i]+list7[j]==n:\n",
    "                return True\n",
    "           \n",
    "    return False\n",
    "def nextsp(n):\n",
    "    c=0\n",
    "    while(n!=0):\n",
    "        if specialnumbercheck(n)==False:\n",
    "            c=c+1\n",
    "            n=n+1\n",
    "        else:\n",
    "            break\n",
    "    return c\n",
    "\n",
    "def prevsp(n):\n",
    "    c=0\n",
    "    while(n!=0):\n",
    "        if specialnumbercheck(n)==False:\n",
    "            c=c+1\n",
    "            n=n-1\n",
    "        else:\n",
    "            break\n",
    "    return c\n",
    "\n",
    "    \n",
    "n=int(input())\n",
    "specialnumbercheck(n)\n",
    "a=nextsp(n)\n",
    "b=prevsp(n)\n",
    "if a>b:\n",
    "    print(b)\n",
    "else:\n",
    "    print(a)"
   ]
  },
  {
   "cell_type": "code",
   "execution_count": 2,
   "metadata": {},
   "outputs": [
    {
     "name": "stdout",
     "output_type": "stream",
     "text": [
      "[8, 10, 12, 14, 16, 28, 32, 34, 52, 54, 58, 74, 76, 86, 88]\n"
     ]
    }
   ],
   "source": [
    "l=[]\n",
    "for i in range(1,100):\n",
    "    if specialnumbercheck(i):\n",
    "        l.append(i)\n",
    "print(l)"
   ]
  },
  {
   "cell_type": "code",
   "execution_count": 6,
   "metadata": {},
   "outputs": [
    {
     "name": "stdout",
     "output_type": "stream",
     "text": [
      "8\n"
     ]
    }
   ],
   "source": [
    "def nextsp(n):\n",
    "    c=0\n",
    "    while(n!=0):\n",
    "        if specialnumbercheck(n)==False:\n",
    "            c=c+1\n",
    "            n=n+1\n",
    "        else:\n",
    "            break\n",
    "    return c\n",
    "print(nextsp(20))\n",
    "    "
   ]
  },
  {
   "cell_type": "code",
   "execution_count": 11,
   "metadata": {},
   "outputs": [
    {
     "name": "stdout",
     "output_type": "stream",
     "text": [
      "2\n"
     ]
    }
   ],
   "source": [
    "def prevsp(n):\n",
    "    c=0\n",
    "    while(n!=0):\n",
    "        if specialnumbercheck(n)==False:\n",
    "            c=c+1\n",
    "            n=n-1\n",
    "        else:\n",
    "            break\n",
    "    return c\n",
    "print(prevsp(30))\n",
    "    "
   ]
  },
  {
   "cell_type": "code",
   "execution_count": null,
   "metadata": {},
   "outputs": [],
   "source": []
  }
 ],
 "metadata": {
  "kernelspec": {
   "display_name": "Python 3",
   "language": "python",
   "name": "python3"
  },
  "language_info": {
   "codemirror_mode": {
    "name": "ipython",
    "version": 3
   },
   "file_extension": ".py",
   "mimetype": "text/x-python",
   "name": "python",
   "nbconvert_exporter": "python",
   "pygments_lexer": "ipython3",
   "version": "3.7.3"
  }
 },
 "nbformat": 4,
 "nbformat_minor": 2
}
