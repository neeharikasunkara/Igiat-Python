{
 "cells": [
  {
   "cell_type": "code",
   "execution_count": 3,
   "metadata": {},
   "outputs": [],
   "source": [
    "import re"
   ]
  },
  {
   "cell_type": "code",
   "execution_count": 7,
   "metadata": {},
   "outputs": [
    {
     "name": "stdout",
     "output_type": "stream",
     "text": [
      "<re.Match object; span=(8, 9), match='a'>\n"
     ]
    }
   ],
   "source": [
    "example=\"neeharika\"        #### Search example=\"surya softline systems\"\n",
    "print(re.findall(\"^[a-z \\s]{1,}$\",example))\n",
    "print(re.search(\"a$\",example))"
   ]
  },
  {
   "cell_type": "code",
   "execution_count": 8,
   "metadata": {},
   "outputs": [
    {
     "data": {
      "text/plain": [
       "<re.Match object; span=(0, 24), match='neeharikasai94@gmail.com'>"
      ]
     },
     "execution_count": 8,
     "metadata": {},
     "output_type": "execute_result"
    }
   ],
   "source": [
    "example=\"neeharikasai94@gmail.com\"\n",
    "re.search(\"^[a-z]{1,}[0-9]{1,}[@][a-z]{1,}[.]{1}[a-z]{1,}$\",example)"
   ]
  },
  {
   "cell_type": "code",
   "execution_count": 9,
   "metadata": {},
   "outputs": [
    {
     "name": "stdout",
     "output_type": "stream",
     "text": [
      "['surya softline systems']\n"
     ]
    }
   ],
   "source": [
    "example=\"surya softline systems\"    ### printing whole string using findall\n",
    "print(re.findall(\"^[a-z \\s]{1,}$\",example))"
   ]
  },
  {
   "cell_type": "code",
   "execution_count": 10,
   "metadata": {},
   "outputs": [
    {
     "name": "stdout",
     "output_type": "stream",
     "text": [
      "['s']\n"
     ]
    }
   ],
   "source": [
    "example=\"surya softline systems\"      ### starting letter printing\n",
    "print(re.findall(\"^s\",example))"
   ]
  },
  {
   "cell_type": "code",
   "execution_count": 11,
   "metadata": {},
   "outputs": [
    {
     "name": "stdout",
     "output_type": "stream",
     "text": [
      "[]\n"
     ]
    }
   ],
   "source": [
    "example=\"surya softline systems\"    ### End letter matching and printng\n",
    "print(re.findall(\"^e$\",example))         # output is null since last letter is not e"
   ]
  },
  {
   "cell_type": "code",
   "execution_count": 13,
   "metadata": {},
   "outputs": [
    {
     "name": "stdout",
     "output_type": "stream",
     "text": [
      "['surya', 'softline', 'systems']\n"
     ]
    }
   ],
   "source": [
    "example=\"surya softline systems\"    ### To get separate words\n",
    "print(re.split(\"\\s\",example))"
   ]
  },
  {
   "cell_type": "code",
   "execution_count": 17,
   "metadata": {},
   "outputs": [
    {
     "name": "stdout",
     "output_type": "stream",
     "text": [
      "surya\n",
      "softline systems limited\n"
     ]
    }
   ],
   "source": [
    "example=\"surya softline systems limited\"\n",
    "m=re.split(\"\\s\",example,1)\n",
    "for i in m:\n",
    "    print(i)"
   ]
  },
  {
   "cell_type": "code",
   "execution_count": 18,
   "metadata": {},
   "outputs": [
    {
     "name": "stdout",
     "output_type": "stream",
     "text": [
      "surya\n",
      "softline\n",
      "systems limited\n"
     ]
    }
   ],
   "source": [
    "example=\"surya softline systems limited\"\n",
    "m=re.split(\"\\s\",example,2)\n",
    "for i in m:\n",
    "    print(i)"
   ]
  },
  {
   "cell_type": "code",
   "execution_count": 19,
   "metadata": {},
   "outputs": [
    {
     "name": "stdout",
     "output_type": "stream",
     "text": [
      "surya\n",
      "softline\n",
      "systems\n",
      "limited\n"
     ]
    }
   ],
   "source": [
    "example=\"surya softline systems limited\"\n",
    "m=re.split(\"\\s\",example,3)\n",
    "for i in m:\n",
    "    print(i)"
   ]
  },
  {
   "cell_type": "code",
   "execution_count": null,
   "metadata": {},
   "outputs": [],
   "source": []
  }
 ],
 "metadata": {
  "kernelspec": {
   "display_name": "Python 3",
   "language": "python",
   "name": "python3"
  },
  "language_info": {
   "codemirror_mode": {
    "name": "ipython",
    "version": 3
   },
   "file_extension": ".py",
   "mimetype": "text/x-python",
   "name": "python",
   "nbconvert_exporter": "python",
   "pygments_lexer": "ipython3",
   "version": "3.7.3"
  }
 },
 "nbformat": 4,
 "nbformat_minor": 2
}
