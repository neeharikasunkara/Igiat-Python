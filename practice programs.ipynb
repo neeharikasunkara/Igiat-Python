{
 "cells": [
  {
   "cell_type": "code",
   "execution_count": 5,
   "metadata": {},
   "outputs": [
    {
     "name": "stdout",
     "output_type": "stream",
     "text": [
      "2 * 1 = 2\n",
      "2 * 2 = 4\n",
      "2 * 3 = 6\n",
      "2 * 4 = 8\n",
      "2 * 5 = 10\n",
      "2 * 6 = 12\n",
      "2 * 7 = 14\n",
      "2 * 8 = 16\n",
      "2 * 9 = 18\n",
      "2 * 10 = 20\n",
      "3 * 1 = 3\n",
      "3 * 2 = 6\n",
      "3 * 3 = 9\n",
      "3 * 4 = 12\n",
      "3 * 5 = 15\n",
      "3 * 6 = 18\n",
      "3 * 7 = 21\n",
      "3 * 8 = 24\n",
      "3 * 9 = 27\n",
      "3 * 10 = 30\n",
      "4 * 1 = 4\n",
      "4 * 2 = 8\n",
      "4 * 3 = 12\n",
      "4 * 4 = 16\n",
      "4 * 5 = 20\n",
      "4 * 6 = 24\n",
      "4 * 7 = 28\n",
      "4 * 8 = 32\n",
      "4 * 9 = 36\n",
      "4 * 10 = 40\n",
      "5 * 1 = 5\n",
      "5 * 2 = 10\n",
      "5 * 3 = 15\n",
      "5 * 4 = 20\n",
      "5 * 5 = 25\n",
      "5 * 6 = 30\n",
      "5 * 7 = 35\n",
      "5 * 8 = 40\n",
      "5 * 9 = 45\n",
      "5 * 10 = 50\n"
     ]
    }
   ],
   "source": [
    "## tables printing\n",
    "a=[2,3,4,5]\n",
    "for i in a:\n",
    "    for j in range(1,10+1):\n",
    "        print(i,\"*\",j,\"=\",(i*j))"
   ]
  },
  {
   "cell_type": "code",
   "execution_count": 10,
   "metadata": {},
   "outputs": [
    {
     "name": "stdout",
     "output_type": "stream",
     "text": [
      "Enter the number 3\n",
      "4\n"
     ]
    }
   ],
   "source": [
    "##Prime numbers checking and adding of prime numbers\n",
    "n=int(input(\"Enter the number \"))\n",
    "status=0\n",
    "for i in range(2,n):\n",
    "    if n%i==0:\n",
    "        status=1\n",
    "    elif status==0:\n",
    "        print(n+1)\n",
    "        "
   ]
  },
  {
   "cell_type": "code",
   "execution_count": 31,
   "metadata": {},
   "outputs": [
    {
     "name": "stdout",
     "output_type": "stream",
     "text": [
      "Enter the number 20\n",
      "2\n",
      "5\n",
      "sum is 7\n"
     ]
    }
   ],
   "source": [
    "## Prime factors \n",
    "n=int(input(\"Enter the number \"))\n",
    "sum=0\n",
    "for i in range(2,n):\n",
    "    if n%i==0:\n",
    "        s=0\n",
    "        \n",
    "        for j in range(2,i):\n",
    "            if i%j==0:\n",
    "                s=1\n",
    "        if s==0:\n",
    "            sum=sum+i\n",
    "            print(i)\n",
    "print(\"sum is\",sum)\n",
    "                \n",
    "        \n",
    "        "
   ]
  },
  {
   "cell_type": "code",
   "execution_count": 23,
   "metadata": {},
   "outputs": [
    {
     "name": "stdout",
     "output_type": "stream",
     "text": [
      "[1, 2, 3, 4, 5, 6, 7, 8, 9]\n"
     ]
    }
   ],
   "source": [
    "## Remove Duplicate elements in list\n",
    "l=[1,2,2,3,3,3,4,4,5,5,5,6,7,8,8,9]\n",
    "l1=[]\n",
    "for i in l:\n",
    "    if i not in l1:\n",
    "        l1.append(i)\n",
    "print(l1)"
   ]
  },
  {
   "cell_type": "code",
   "execution_count": 25,
   "metadata": {},
   "outputs": [
    {
     "data": {
      "text/plain": [
       "{1, 2, 3, 4, 5, 6, 7, 8, 9}"
      ]
     },
     "execution_count": 25,
     "metadata": {},
     "output_type": "execute_result"
    }
   ],
   "source": [
    "l2=set(l)\n",
    "l2"
   ]
  },
  {
   "cell_type": "code",
   "execution_count": 33,
   "metadata": {},
   "outputs": [
    {
     "data": {
      "text/plain": [
       "29"
      ]
     },
     "execution_count": 33,
     "metadata": {},
     "output_type": "execute_result"
    }
   ],
   "source": [
    "## Characters count\n",
    "s=\"hello welcome to string count\"\n",
    "len(s)"
   ]
  },
  {
   "cell_type": "code",
   "execution_count": 34,
   "metadata": {},
   "outputs": [
    {
     "name": "stdout",
     "output_type": "stream",
     "text": [
      "h e l l o   w e l c o m e   t o   s t r i n g   c o u n t "
     ]
    }
   ],
   "source": [
    "## Characters count with and without spaces\n",
    "s=\"hello welcome to string count\"\n",
    "c=0\n",
    "for i in s:\n",
    "    print(i,end=\" \")\n"
   ]
  },
  {
   "cell_type": "code",
   "execution_count": 35,
   "metadata": {},
   "outputs": [
    {
     "name": "stdout",
     "output_type": "stream",
     "text": [
      "no of chars with spaces 29\n"
     ]
    }
   ],
   "source": [
    "## Characters count with spaces\n",
    "s=\"hello welcome to string count\"\n",
    "c=0\n",
    "for i in s:\n",
    "    c=c+1\n",
    "print(\"no of chars with spaces\",c)\n",
    "    \n"
   ]
  },
  {
   "cell_type": "code",
   "execution_count": 43,
   "metadata": {},
   "outputs": [
    {
     "name": "stdout",
     "output_type": "stream",
     "text": [
      "['hello', 'welcome', 'to', 'string', 'count']\n",
      "hello\n",
      "welcome\n",
      "to\n",
      "string\n",
      "count\n",
      "no of chars with spaces 29\n",
      "no of chars without spaces 25\n",
      "no of words in a string 5\n"
     ]
    }
   ],
   "source": [
    "## Characters count without spaces and word count\n",
    "s=\"hello welcome to string count\"\n",
    "c=0\n",
    "c1=0\n",
    "w=0\n",
    "s1=s.split()  \n",
    "print(s1)\n",
    "for j in s1:   ### string words splitting\n",
    "    print(j)\n",
    "\n",
    "for i in s:     ### With space\n",
    "    c=c+1\n",
    "    if(i!=\" \"): ### Without space\n",
    "        c1=c1+1\n",
    "for j in s1:    ### Word count\n",
    "    w=w+1\n",
    "    \n",
    "print(\"no of chars with spaces\",c)\n",
    "print(\"no of chars without spaces\",c1)\n",
    "print(\"no of words in a string\",w)\n",
    "    "
   ]
  },
  {
   "cell_type": "code",
   "execution_count": 45,
   "metadata": {},
   "outputs": [
    {
     "name": "stdout",
     "output_type": "stream",
     "text": [
      "Hii How are you\n",
      "This a multi skill training program\n",
      "for 3 months duration\n"
     ]
    }
   ],
   "source": [
    "### triple quotes gives separate lines\n",
    "s=\"\"\"Hii How are you\n",
    "This a multi skill training program\n",
    "for 3 months duration\"\"\"\n",
    "print(s)"
   ]
  },
  {
   "cell_type": "code",
   "execution_count": 55,
   "metadata": {},
   "outputs": [
    {
     "name": "stdout",
     "output_type": "stream",
     "text": [
      "a\n",
      "k\n",
      "h\n",
      "b\n"
     ]
    }
   ],
   "source": [
    "a=\"a@%khb\"  ### Printing only characters\n",
    "str=\"\"\n",
    "for i in a:\n",
    "    str=i.isalpha()\n",
    "    if(str==True):\n",
    "        print(i)\n"
   ]
  },
  {
   "cell_type": "code",
   "execution_count": 56,
   "metadata": {},
   "outputs": [
    {
     "data": {
      "text/plain": [
       "['Hii How are you',\n",
       " 'This a multi skill training program',\n",
       " 'for 3 months duration']"
      ]
     },
     "execution_count": 56,
     "metadata": {},
     "output_type": "execute_result"
    }
   ],
   "source": [
    "### Split lines\n",
    "s=\"\"\"Hii How are you\n",
    "This a multi skill training program\n",
    "for 3 months duration\"\"\"\n",
    "ss=s.splitlines()\n",
    "ss"
   ]
  },
  {
   "cell_type": "code",
   "execution_count": 57,
   "metadata": {},
   "outputs": [
    {
     "name": "stdout",
     "output_type": "stream",
     "text": [
      "no of lines in a string 3\n"
     ]
    }
   ],
   "source": [
    "### no of Split lines \n",
    "s=\"\"\"Hii How are you\n",
    "This a multi skill training program\n",
    "for 3 months duration\"\"\"\n",
    "ss=s.splitlines()\n",
    "lc=0\n",
    "for i in ss:\n",
    "    lc=lc+1\n",
    "print(\"no of lines in a string\",lc)"
   ]
  },
  {
   "cell_type": "code",
   "execution_count": 58,
   "metadata": {},
   "outputs": [
    {
     "name": "stdout",
     "output_type": "stream",
     "text": [
      "{'w': 3, '.': 2, 'i': 2, 'g': 1, 'a': 1, 't': 1, 'c': 1, 'o': 1, 'm': 1}\n"
     ]
    }
   ],
   "source": [
    "### Character sequence into dictionary\n",
    "s=\"www.igiat.com\"\n",
    "d={}\n",
    "for i in s:\n",
    "    if i in d:\n",
    "        d[i]+=1\n",
    "    else:\n",
    "        d[i]=1\n",
    "print(d)"
   ]
  },
  {
   "cell_type": "code",
   "execution_count": 59,
   "metadata": {},
   "outputs": [
    {
     "name": "stdout",
     "output_type": "stream",
     "text": [
      "{'www.igiat.com': 1, 'www.google.com': 1, 'www.apssdc.info': 1}\n"
     ]
    }
   ],
   "source": [
    "### Character sequence into dictionary\n",
    "s=[\"www.igiat.com\",\"www.google.com\",\"www.apssdc.info\"]\n",
    "d={}\n",
    "for i in s:\n",
    "    if i in d:\n",
    "        d[i]+=1\n",
    "    else:\n",
    "        d[i]=1\n",
    "print(d)"
   ]
  },
  {
   "cell_type": "code",
   "execution_count": 63,
   "metadata": {},
   "outputs": [
    {
     "name": "stdout",
     "output_type": "stream",
     "text": [
      "hello\n",
      "ifmmp\n"
     ]
    }
   ],
   "source": [
    "### Printing of next sequenctial characters\n",
    "a=input()\n",
    "o=\"\"\n",
    "for i in a:\n",
    "    n=ord(i)\n",
    "    o=o+chr(n+1)\n",
    "print(o)\n",
    "    "
   ]
  },
  {
   "cell_type": "code",
   "execution_count": 64,
   "metadata": {},
   "outputs": [
    {
     "name": "stdout",
     "output_type": "stream",
     "text": [
      "hello world\n",
      "ifmmp xpsme!\n"
     ]
    }
   ],
   "source": [
    "### Printing of next sequenctial characters\n",
    "a=input()\n",
    "o=\"\"\n",
    "for i in a:\n",
    "    if i==\" \":\n",
    "        o=o+i\n",
    "    else:\n",
    "        n=ord(i)\n",
    "        o=o+chr(n+1)\n",
    "print(o+\"!\")"
   ]
  },
  {
   "cell_type": "code",
   "execution_count": null,
   "metadata": {},
   "outputs": [],
   "source": []
  }
 ],
 "metadata": {
  "kernelspec": {
   "display_name": "Python 3",
   "language": "python",
   "name": "python3"
  },
  "language_info": {
   "codemirror_mode": {
    "name": "ipython",
    "version": 3
   },
   "file_extension": ".py",
   "mimetype": "text/x-python",
   "name": "python",
   "nbconvert_exporter": "python",
   "pygments_lexer": "ipython3",
   "version": "3.7.3"
  }
 },
 "nbformat": 4,
 "nbformat_minor": 2
}
