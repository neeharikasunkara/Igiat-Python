{
 "cells": [
  {
   "cell_type": "code",
   "execution_count": 38,
   "metadata": {},
   "outputs": [],
   "source": [
    "import random"
   ]
  },
  {
   "cell_type": "code",
   "execution_count": 39,
   "metadata": {},
   "outputs": [],
   "source": [
    "with open(\"marks.txt\",\"w\") as f:\n",
    "    for i in range(0,100):\n",
    "        f.write(str(random.randint(0,100)))\n",
    "        f.write(\"\\n\")"
   ]
  },
  {
   "cell_type": "code",
   "execution_count": 43,
   "metadata": {},
   "outputs": [],
   "source": [
    "key_list=[[],[]]\n",
    "with open(\"key.txt\",\"r\") as key:\n",
    "    for i in range(0,10):\n",
    "        m=key.readline()\n",
    "        key_list[0].append(m[0])\n",
    "        key_list[1].append(m[2])\n",
    "with open(\"marks.txt\",\"r\") as f:\n",
    "    with open(\"encrypt.txt\",\"a\") as new:\n",
    "        for i in range(0,100):\n",
    "            line=f.readline()\n",
    "            x=int(line)%10\n",
    "            y=int(int(line)/10)\n",
    "            new.write(key_list[1][y])\n",
    "            new.write(key_list[1][x])\n",
    "            new.write(\"\\n\")"
   ]
  },
  {
   "cell_type": "code",
   "execution_count": null,
   "metadata": {},
   "outputs": [],
   "source": []
  }
 ],
 "metadata": {
  "kernelspec": {
   "display_name": "Python 3",
   "language": "python",
   "name": "python3"
  },
  "language_info": {
   "codemirror_mode": {
    "name": "ipython",
    "version": 3
   },
   "file_extension": ".py",
   "mimetype": "text/x-python",
   "name": "python",
   "nbconvert_exporter": "python",
   "pygments_lexer": "ipython3",
   "version": "3.7.3"
  }
 },
 "nbformat": 4,
 "nbformat_minor": 2
}
