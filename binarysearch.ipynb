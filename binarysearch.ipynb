{
 "cells": [
  {
   "cell_type": "code",
   "execution_count": null,
   "metadata": {},
   "outputs": [],
   "source": [
    "a=[25,36,72,23,45,8,78,90]\n",
    "a.sort()\n",
    "a"
   ]
  },
  {
   "cell_type": "code",
   "execution_count": 5,
   "metadata": {},
   "outputs": [
    {
     "name": "stdout",
     "output_type": "stream",
     "text": [
      "5\n",
      "2 4 3 5 6\n",
      "[2, 3, 4, 5, 6]\n",
      "6\n",
      "index 4\n"
     ]
    }
   ],
   "source": [
    "a=[]\n",
    "c=0\n",
    "n=int(input())\n",
    "a=list(map(int,input().split()[:n]))\n",
    "a.sort()\n",
    "print(a)\n",
    "mid=n//2\n",
    "x=int(input())\n",
    "for i in range(mid,n):\n",
    "    if a[i]==x:\n",
    "        print(\"index\",i)\n",
    "        break\n",
    "    else:\n",
    "        c+=1\n",
    "if c==abs(n-mid):\n",
    "    print(\"not found\")"
   ]
  },
  {
   "cell_type": "code",
   "execution_count": null,
   "metadata": {},
   "outputs": [],
   "source": []
  }
 ],
 "metadata": {
  "kernelspec": {
   "display_name": "Python 3",
   "language": "python",
   "name": "python3"
  },
  "language_info": {
   "codemirror_mode": {
    "name": "ipython",
    "version": 3
   },
   "file_extension": ".py",
   "mimetype": "text/x-python",
   "name": "python",
   "nbconvert_exporter": "python",
   "pygments_lexer": "ipython3",
   "version": "3.7.3"
  }
 },
 "nbformat": 4,
 "nbformat_minor": 2
}
