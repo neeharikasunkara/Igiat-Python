{
 "cells": [
  {
   "cell_type": "code",
   "execution_count": 14,
   "metadata": {},
   "outputs": [
    {
     "name": "stdout",
     "output_type": "stream",
     "text": [
      "2\n"
     ]
    }
   ],
   "source": [
    "# Program-1 \n",
    "l=[\"abc\",\"xyzw\",\"bcb\",\"pop\"]\n",
    "count=0\n",
    "for i in l:\n",
    "    if i[0]==i[-1]:\n",
    "        count+=1\n",
    "print(count)"
   ]
  },
  {
   "cell_type": "code",
   "execution_count": 18,
   "metadata": {},
   "outputs": [
    {
     "name": "stdout",
     "output_type": "stream",
     "text": [
      "Enter the string abcdef\n"
     ]
    },
    {
     "data": {
      "text/plain": [
       "'ace'"
      ]
     },
     "execution_count": 18,
     "metadata": {},
     "output_type": "execute_result"
    }
   ],
   "source": [
    "# Program-2\n",
    "l=input(\"Enter the string \")\n",
    "l[::2]\n",
    "    "
   ]
  },
  {
   "cell_type": "code",
   "execution_count": 40,
   "metadata": {},
   "outputs": [
    {
     "name": "stdout",
     "output_type": "stream",
     "text": [
      "i\n",
      "python\n",
      "<i>python</i>\n"
     ]
    }
   ],
   "source": [
    "# Program-3\n",
    "def add_tags(a,b):\n",
    "    print(\"<\"+a+\">\"+b+\"</\"+a+\">\")\n",
    "x=input()\n",
    "y=input()\n",
    "add_tags(x,y)"
   ]
  },
  {
   "cell_type": "code",
   "execution_count": 44,
   "metadata": {},
   "outputs": [
    {
     "data": {
      "text/html": [
       "<div>\n",
       "<style scoped>\n",
       "    .dataframe tbody tr th:only-of-type {\n",
       "        vertical-align: middle;\n",
       "    }\n",
       "\n",
       "    .dataframe tbody tr th {\n",
       "        vertical-align: top;\n",
       "    }\n",
       "\n",
       "    .dataframe thead th {\n",
       "        text-align: right;\n",
       "    }\n",
       "</style>\n",
       "<table border=\"1\" class=\"dataframe\">\n",
       "  <thead>\n",
       "    <tr style=\"text-align: right;\">\n",
       "      <th></th>\n",
       "      <th>name</th>\n",
       "      <th>id</th>\n",
       "      <th>company</th>\n",
       "      <th>Salary</th>\n",
       "    </tr>\n",
       "  </thead>\n",
       "  <tbody>\n",
       "    <tr>\n",
       "      <th>0</th>\n",
       "      <td>abc</td>\n",
       "      <td>101</td>\n",
       "      <td>TCS</td>\n",
       "      <td>25000</td>\n",
       "    </tr>\n",
       "    <tr>\n",
       "      <th>1</th>\n",
       "      <td>def</td>\n",
       "      <td>102</td>\n",
       "      <td>Incomm</td>\n",
       "      <td>30000</td>\n",
       "    </tr>\n",
       "    <tr>\n",
       "      <th>2</th>\n",
       "      <td>ghi</td>\n",
       "      <td>103</td>\n",
       "      <td>Wipro</td>\n",
       "      <td>35000</td>\n",
       "    </tr>\n",
       "    <tr>\n",
       "      <th>3</th>\n",
       "      <td>jkl</td>\n",
       "      <td>104</td>\n",
       "      <td>Amazon</td>\n",
       "      <td>40000</td>\n",
       "    </tr>\n",
       "    <tr>\n",
       "      <th>4</th>\n",
       "      <td>mno</td>\n",
       "      <td>105</td>\n",
       "      <td>Cognizant</td>\n",
       "      <td>60000</td>\n",
       "    </tr>\n",
       "    <tr>\n",
       "      <th>5</th>\n",
       "      <td>pqr</td>\n",
       "      <td>106</td>\n",
       "      <td>Tech mahindra</td>\n",
       "      <td>80000</td>\n",
       "    </tr>\n",
       "  </tbody>\n",
       "</table>\n",
       "</div>"
      ],
      "text/plain": [
       "  name   id        company  Salary\n",
       "0  abc  101            TCS   25000\n",
       "1  def  102         Incomm   30000\n",
       "2  ghi  103          Wipro   35000\n",
       "3  jkl  104         Amazon   40000\n",
       "4  mno  105      Cognizant   60000\n",
       "5  pqr  106  Tech mahindra   80000"
      ]
     },
     "execution_count": 44,
     "metadata": {},
     "output_type": "execute_result"
    }
   ],
   "source": [
    "# Program-4\n",
    "import pandas as p\n",
    "d={\n",
    "    \"name\":[\"abc\",\"def\",\"ghi\",\"jkl\",\"mno\",\"pqr\"],\n",
    "    \"id\":[101,102,103,104,105,106],\n",
    "    \"company\":[\"TCS\",\"Incomm\",\"Wipro\",\"Amazon\",\"Cognizant\",\"Tech mahindra\"],\n",
    "    \"Salary\":[25000,30000,35000,40000,60000,80000]\n",
    "}\n",
    "d\n",
    "df=p.DataFrame(d)\n",
    "df"
   ]
  },
  {
   "cell_type": "code",
   "execution_count": 43,
   "metadata": {},
   "outputs": [
    {
     "name": "stdout",
     "output_type": "stream",
     "text": [
      "No. of rows  6\n",
      "no. of columns  4\n"
     ]
    }
   ],
   "source": [
    "df=p.DataFrame(d)\n",
    "df\n",
    "print(\"No. of rows \",len(df.index))\n",
    "print(\"no. of columns \",len(df.columns))"
   ]
  },
  {
   "cell_type": "code",
   "execution_count": 34,
   "metadata": {},
   "outputs": [
    {
     "data": {
      "text/plain": [
       "[<matplotlib.lines.Line2D at 0x280944c4e80>]"
      ]
     },
     "execution_count": 34,
     "metadata": {},
     "output_type": "execute_result"
    },
    {
     "data": {
      "image/png": "[encoded data removed]",
      "text/plain": [
       "<Figure size 432x288 with 1 Axes>"
      ]
     },
     "metadata": {
      "needs_background": "light"
     },
     "output_type": "display_data"
    }
   ],
   "source": [
    "import matplotlib.pyplot as p\n",
    "p.plot(df[\"Salary\"])\n"
   ]
  },
  {
   "cell_type": "code",
   "execution_count": null,
   "metadata": {},
   "outputs": [],
   "source": []
  }
 ],
 "metadata": {
  "kernelspec": {
   "display_name": "Python 3",
   "language": "python",
   "name": "python3"
  },
  "language_info": {
   "codemirror_mode": {
    "name": "ipython",
    "version": 3
   },
   "file_extension": ".py",
   "mimetype": "text/x-python",
   "name": "python",
   "nbconvert_exporter": "python",
   "pygments_lexer": "ipython3",
   "version": "3.7.3"
  }
 },
 "nbformat": 4,
 "nbformat_minor": 2
}
