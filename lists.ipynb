{
 "cells": [
  {
   "cell_type": "code",
   "execution_count": 2,
   "metadata": {},
   "outputs": [
    {
     "name": "stdout",
     "output_type": "stream",
     "text": [
      "['H', 'I']\n"
     ]
    }
   ],
   "source": [
    "a=\"HI\"   ####### storing values into list\n",
    "b=list(a)\n",
    "print(b)"
   ]
  },
  {
   "cell_type": "code",
   "execution_count": 3,
   "metadata": {},
   "outputs": [
    {
     "name": "stdout",
     "output_type": "stream",
     "text": [
      "hello\n",
      "['h', 'e', 'l', 'l', 'o']\n"
     ]
    }
   ],
   "source": [
    "a=input()    ## by giving input we have to store the values in list\n",
    "b=list(a)        *** list function used here to store values\n",
    "print(b)"
   ]
  },
  {
   "cell_type": "code",
   "execution_count": 4,
   "metadata": {},
   "outputs": [
    {
     "name": "stdout",
     "output_type": "stream",
     "text": [
      "10\n"
     ]
    }
   ],
   "source": [
    "s=[1,2,3,4]\n",
    "print(sum(s))   **** sum function"
   ]
  },
  {
   "cell_type": "code",
   "execution_count": 6,
   "metadata": {},
   "outputs": [
    {
     "name": "stdout",
     "output_type": "stream",
     "text": [
      "hello\n"
     ]
    }
   ],
   "source": [
    "b=list(a)       #### converting back the list elements into string\n",
    "s=\"\"\n",
    "for i in b:\n",
    "    s+=i\n",
    "print(s)"
   ]
  },
  {
   "cell_type": "code",
   "execution_count": 1,
   "metadata": {},
   "outputs": [
    {
     "data": {
      "text/plain": [
       "70"
      ]
     },
     "execution_count": 1,
     "metadata": {},
     "output_type": "execute_result"
    }
   ],
   "source": [
    "a=[21,25,92,23,70]   ####### largest value is 92 but if we want second largest no. then we have to remove large no. \n",
    "and print max value\n",
    "a.remove(max(a))           **** remove function\n",
    "max(a)"
   ]
  },
  {
   "cell_type": "code",
   "execution_count": 10,
   "metadata": {},
   "outputs": [
    {
     "name": "stdout",
     "output_type": "stream",
     "text": [
      "[4, 22, 34, 56, 100]\n"
     ]
    }
   ],
   "source": [
    "a=[100,22,34,4,56]\n",
    "a.sort()   ###### using sort function\n",
    "print(a)"
   ]
  },
  {
   "cell_type": "code",
   "execution_count": 7,
   "metadata": {
    "scrolled": true
   },
   "outputs": [
    {
     "name": "stdout",
     "output_type": "stream",
     "text": [
      "[4, 22, 34, 56, 100]\n"
     ]
    }
   ],
   "source": [
    "a=[100,22,34,4,56]\n",
    "b=sorted(a)           #### **** sorting of elements by taking variable ,using sort function\n",
    "print(b)"
   ]
  },
  {
   "cell_type": "code",
   "execution_count": 8,
   "metadata": {},
   "outputs": [
    {
     "name": "stdout",
     "output_type": "stream",
     "text": [
      "[100, 56, 34, 22, 4]\n"
     ]
    }
   ],
   "source": [
    "b=sorted(a,reverse=True)    #####  **** Descending order using reverse function\n",
    "print(b)"
   ]
  },
  {
   "cell_type": "code",
   "execution_count": 15,
   "metadata": {},
   "outputs": [
    {
     "name": "stdout",
     "output_type": "stream",
     "text": [
      "1\n",
      "15\n",
      "Average of even numbers is  8.0\n",
      "Average of odd numbers is  7.0\n",
      "[2, 4, 6, 8, 10, 12, 14]\n",
      "[1, 3, 5, 7, 9, 11, 13]\n"
     ]
    }
   ],
   "source": [
    "fromrange=int(input())\n",
    "torange=int(input())       ##### Even and odd numbers average \n",
    "evenList=[]\n",
    "oddList=[]\n",
    "for i in range(fromrange,torange):\n",
    "    if i%2==0:\n",
    "        evenList.append(i)\n",
    "    else:\n",
    "        oddList.append(i)\n",
    "print(\"Average of even numbers is \",sum(evenList)/len(evenList))\n",
    "print(\"Average of odd numbers is \",sum(oddList)/len(oddList))\n",
    "print(evenList)\n",
    "print(oddList)\n"
   ]
  },
  {
   "cell_type": "code",
   "execution_count": 6,
   "metadata": {},
   "outputs": [
    {
     "name": "stdout",
     "output_type": "stream",
     "text": [
      "5\n",
      "[0, 1, 2, 3, 4]\n",
      "Even sum=  6\n",
      "Odd sum=  4\n"
     ]
    }
   ],
   "source": [
    "n=int(input())\n",
    "samplelist=[]                    ##### sum of odd and even numbers\n",
    "sum=0\n",
    "sum1=0\n",
    "for i in range(n):\n",
    "    \n",
    "    samplelist.append(i)\n",
    "    \n",
    "print(samplelist)\n",
    "\n",
    "for j in samplelist:\n",
    "    if j%2==0:\n",
    "        sum=sum+j\n",
    "    else:\n",
    "        sum1=sum1+j\n",
    "print(\"Even sum= \",sum)\n",
    "print(\"Odd sum= \",sum1)"
   ]
  },
  {
   "cell_type": "code",
   "execution_count": 7,
   "metadata": {},
   "outputs": [],
   "source": [
    "###: Sets \n",
    "\n",
    "s={\"praveen\",\"Sravani\",\"Pradeep\"}"
   ]
  },
  {
   "cell_type": "code",
   "execution_count": 8,
   "metadata": {},
   "outputs": [
    {
     "data": {
      "text/plain": [
       "{'Pradeep', 'Sravani', 'praveen'}"
      ]
     },
     "execution_count": 8,
     "metadata": {},
     "output_type": "execute_result"
    }
   ],
   "source": [
    "s"
   ]
  },
  {
   "cell_type": "code",
   "execution_count": 9,
   "metadata": {},
   "outputs": [
    {
     "ename": "TypeError",
     "evalue": "'set' object is not subscriptable",
     "output_type": "error",
     "traceback": [
      "\u001b[1;31m---------------------------------------------------------------------------\u001b[0m",
      "\u001b[1;31mTypeError\u001b[0m                                 Traceback (most recent call last)",
      "\u001b[1;32m<ipython-input-9-c9c96910e542>\u001b[0m in \u001b[0;36m<module>\u001b[1;34m\u001b[0m\n\u001b[1;32m----> 1\u001b[1;33m \u001b[0ms\u001b[0m\u001b[1;33m[\u001b[0m\u001b[1;36m0\u001b[0m\u001b[1;33m]\u001b[0m\u001b[1;33m\u001b[0m\u001b[1;33m\u001b[0m\u001b[0m\n\u001b[0m",
      "\u001b[1;31mTypeError\u001b[0m: 'set' object is not subscriptable"
     ]
    }
   ],
   "source": [
    "s[0]    ### wrong case since sets is unordered list"
   ]
  },
  {
   "cell_type": "code",
   "execution_count": 10,
   "metadata": {},
   "outputs": [],
   "source": [
    "s.add(\"Bilal\")"
   ]
  },
  {
   "cell_type": "code",
   "execution_count": 11,
   "metadata": {},
   "outputs": [
    {
     "data": {
      "text/plain": [
       "{'Bilal', 'Pradeep', 'Sravani', 'praveen'}"
      ]
     },
     "execution_count": 11,
     "metadata": {},
     "output_type": "execute_result"
    }
   ],
   "source": [
    "s"
   ]
  },
  {
   "cell_type": "code",
   "execution_count": 4,
   "metadata": {},
   "outputs": [
    {
     "name": "stdout",
     "output_type": "stream",
     "text": [
      "{'Siri', 'Bilal', 'Rama', 'praveen', 'Lakshmi', 'Pradeep', 'Sravani'}\n"
     ]
    }
   ],
   "source": [
    "s={'Bilal', 'Pradeep', 'Sravani', 'praveen'}\n",
    "s.update([\"Rama\",\"Lakshmi\",\"Siri\"])   # Update is used to add multiple elements\n",
    "print(s)"
   ]
  },
  {
   "cell_type": "code",
   "execution_count": 8,
   "metadata": {},
   "outputs": [],
   "source": [
    "s.discard(\"Pradeep\")"
   ]
  },
  {
   "cell_type": "code",
   "execution_count": 9,
   "metadata": {},
   "outputs": [
    {
     "data": {
      "text/plain": [
       "{'Bilal', 'Lakshmi', 'Rama', 'Siri', 'Sravani', 'praveen'}"
      ]
     },
     "execution_count": 9,
     "metadata": {},
     "output_type": "execute_result"
    }
   ],
   "source": [
    "s"
   ]
  },
  {
   "cell_type": "code",
   "execution_count": 10,
   "metadata": {},
   "outputs": [],
   "source": [
    "s1={\"Neeharika\",\"Mounika\"}"
   ]
  },
  {
   "cell_type": "code",
   "execution_count": 12,
   "metadata": {},
   "outputs": [
    {
     "data": {
      "text/plain": [
       "{'Bilal',\n",
       " 'Lakshmi',\n",
       " 'Mounika',\n",
       " 'Neeharika',\n",
       " 'Rama',\n",
       " 'Siri',\n",
       " 'Sravani',\n",
       " 'praveen'}"
      ]
     },
     "execution_count": 12,
     "metadata": {},
     "output_type": "execute_result"
    }
   ],
   "source": [
    "s.union(s1)"
   ]
  },
  {
   "cell_type": "code",
   "execution_count": 13,
   "metadata": {},
   "outputs": [],
   "source": [
    "s.update(s1)"
   ]
  },
  {
   "cell_type": "code",
   "execution_count": 14,
   "metadata": {},
   "outputs": [
    {
     "data": {
      "text/plain": [
       "{'Bilal',\n",
       " 'Lakshmi',\n",
       " 'Mounika',\n",
       " 'Neeharika',\n",
       " 'Rama',\n",
       " 'Siri',\n",
       " 'Sravani',\n",
       " 'praveen'}"
      ]
     },
     "execution_count": 14,
     "metadata": {},
     "output_type": "execute_result"
    }
   ],
   "source": [
    "s"
   ]
  },
  {
   "cell_type": "code",
   "execution_count": null,
   "metadata": {},
   "outputs": [],
   "source": []
  }
 ],
 "metadata": {
  "kernelspec": {
   "display_name": "Python 3",
   "language": "python",
   "name": "python3"
  },
  "language_info": {
   "codemirror_mode": {
    "name": "ipython",
    "version": 3
   },
   "file_extension": ".py",
   "mimetype": "text/x-python",
   "name": "python",
   "nbconvert_exporter": "python",
   "pygments_lexer": "ipython3",
   "version": "3.7.3"
  }
 },
 "nbformat": 4,
 "nbformat_minor": 2
}
