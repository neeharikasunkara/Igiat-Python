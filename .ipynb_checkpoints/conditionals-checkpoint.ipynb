{
 "cells": [
  {
   "cell_type": "code",
   "execution_count": 2,
   "metadata": {},
   "outputs": [
    {
     "name": "stdout",
     "output_type": "stream",
     "text": [
      "First value5\n",
      "Second value4\n",
      "enter your option1\n",
      "9\n"
     ]
    }
   ],
   "source": [
    "a=int(input(\"First value\"))                 ###Arthmetic operations\n",
    "b=int(input(\"Second value\"))\n",
    "option=int(input(\"enter your option\"))\n",
    "if option==1:\n",
    "    print(a+b)\n",
    "elif option==2:\n",
    "    print(a-b)\n",
    "elif option==3:\n",
    "    print(a*b)\n",
    "else:\n",
    "    print(\"None\")"
   ]
  },
  {
   "cell_type": "code",
   "execution_count": 3,
   "metadata": {},
   "outputs": [
    {
     "name": "stdout",
     "output_type": "stream",
     "text": [
      "First value5\n",
      "Second value4\n",
      "enter your option2\n",
      "1\n"
     ]
    }
   ],
   "source": [
    "a=int(input(\"First value\"))\n",
    "b=int(input(\"Second value\"))                   ###Arthmetic operations\n",
    "option=int(input(\"enter your option\"))\n",
    "if option==1:\n",
    "    print(a+b)\n",
    "elif option==2:\n",
    "    print(a-b)\n",
    "elif option==3:\n",
    "    print(a*b)\n",
    "else:\n",
    "    print(\"None\")"
   ]
  },
  {
   "cell_type": "code",
   "execution_count": 4,
   "metadata": {},
   "outputs": [
    {
     "name": "stdout",
     "output_type": "stream",
     "text": [
      "First value5\n",
      "Second value4\n",
      "enter your option3\n",
      "20\n"
     ]
    }
   ],
   "source": [
    "a=int(input(\"First value\"))\n",
    "b=int(input(\"Second value\"))                      ###Arthmetic operations\n",
    "option=int(input(\"enter your option\"))\n",
    "if option==1:\n",
    "    print(a+b)\n",
    "elif option==2:\n",
    "    print(a-b)\n",
    "elif option==3:\n",
    "    print(a*b)\n",
    "else:\n",
    "    print(\"None\")"
   ]
  },
  {
   "cell_type": "code",
   "execution_count": 5,
   "metadata": {},
   "outputs": [
    {
     "name": "stdout",
     "output_type": "stream",
     "text": [
      "First value5\n",
      "Second value4\n",
      "enter your option5\n",
      "None\n"
     ]
    }
   ],
   "source": [
    "a=int(input(\"First value\"))         ###Arthmetic operations\n",
    "b=int(input(\"Second value\"))\n",
    "option=int(input(\"enter your option\"))\n",
    "if option==1:\n",
    "    print(a+b)\n",
    "elif option==2:\n",
    "    print(a-b)\n",
    "elif option==3:\n",
    "    print(a*b)\n",
    "else:\n",
    "    print(\"None\")"
   ]
  },
  {
   "cell_type": "code",
   "execution_count": 6,
   "metadata": {},
   "outputs": [
    {
     "name": "stdout",
     "output_type": "stream",
     "text": [
      "Enter your option1\n",
      "2\n",
      "0.028\n"
     ]
    }
   ],
   "source": [
    "option=int(input(\"Enter your option\"))         ###Dollar to rupee and vice-versa\n",
    "if option==1:\n",
    "    rupee=int(input(\"\"))\n",
    "    print(rupee*0.014)\n",
    "else:\n",
    "    dollar=int(input(\"\"))\n",
    "    print(dollar*73)"
   ]
  },
  {
   "cell_type": "code",
   "execution_count": 7,
   "metadata": {},
   "outputs": [
    {
     "name": "stdout",
     "output_type": "stream",
     "text": [
      "Enter your option2\n",
      "2\n",
      "146\n"
     ]
    }
   ],
   "source": [
    "option=int(input(\"Enter your option\"))        ###Dollar to rupee and vice-versa\n",
    "if option==1:\n",
    "    rupee=int(input(\"\"))\n",
    "    print(rupee*0.014)\n",
    "else:\n",
    "    dollar=int(input(\"\"))\n",
    "    print(dollar*73)"
   ]
  },
  {
   "cell_type": "code",
   "execution_count": 10,
   "metadata": {},
   "outputs": [
    {
     "name": "stdout",
     "output_type": "stream",
     "text": [
      "Enter the value madam\n",
      "Palindrome\n"
     ]
    }
   ],
   "source": [
    "a=input(\"Enter the value \")   ###given String is a Palindrome or not \n",
    "if(a==a[::-1]):\n",
    "    print(\"Palindrome\")\n",
    "else:\n",
    "    print(\"Not a palindrome\")\n"
   ]
  },
  {
   "cell_type": "code",
   "execution_count": 1,
   "metadata": {},
   "outputs": [
    {
     "name": "stdout",
     "output_type": "stream",
     "text": [
      "1\n",
      "2\n",
      "3\n",
      "4\n"
     ]
    }
   ],
   "source": [
    "for i in range(1,5):       #### for loop\n",
    "    print(i)"
   ]
  },
  {
   "cell_type": "code",
   "execution_count": 3,
   "metadata": {},
   "outputs": [
    {
     "name": "stdout",
     "output_type": "stream",
     "text": [
      "enter the number8\n",
      "Even number \n"
     ]
    }
   ],
   "source": [
    "a=int(input(\"enter the number\"))      ###### Even or odd \n",
    "if (a%2==0):\n",
    "    print(\"Even number \")\n",
    "else:\n",
    "    print(\"odd number \")"
   ]
  },
  {
   "cell_type": "code",
   "execution_count": null,
   "metadata": {},
   "outputs": [],
   "source": []
  }
 ],
 "metadata": {
  "kernelspec": {
   "display_name": "Python 3",
   "language": "python",
   "name": "python3"
  },
  "language_info": {
   "codemirror_mode": {
    "name": "ipython",
    "version": 3
   },
   "file_extension": ".py",
   "mimetype": "text/x-python",
   "name": "python",
   "nbconvert_exporter": "python",
   "pygments_lexer": "ipython3",
   "version": "3.7.3"
  }
 },
 "nbformat": 4,
 "nbformat_minor": 2
}
