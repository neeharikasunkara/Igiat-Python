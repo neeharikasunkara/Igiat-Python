{
 "cells": [
  {
   "cell_type": "code",
   "execution_count": 2,
   "metadata": {},
   "outputs": [
    {
     "name": "stdout",
     "output_type": "stream",
     "text": [
      "First value5\n",
      "Second value4\n",
      "enter your option1\n",
      "9\n"
     ]
    }
   ],
   "source": [
    "a=int(input(\"First value\"))                 ###Arthmetic operations\n",
    "b=int(input(\"Second value\"))\n",
    "option=int(input(\"enter your option\"))\n",
    "if option==1:\n",
    "    print(a+b)\n",
    "elif option==2:\n",
    "    print(a-b)\n",
    "elif option==3:\n",
    "    print(a*b)\n",
    "else:\n",
    "    print(\"None\")"
   ]
  },
  {
   "cell_type": "code",
   "execution_count": 3,
   "metadata": {},
   "outputs": [
    {
     "name": "stdout",
     "output_type": "stream",
     "text": [
      "First value5\n",
      "Second value4\n",
      "enter your option2\n",
      "1\n"
     ]
    }
   ],
   "source": [
    "a=int(input(\"First value\"))\n",
    "b=int(input(\"Second value\"))                   ###Arthmetic operations\n",
    "option=int(input(\"enter your option\"))\n",
    "if option==1:\n",
    "    print(a+b)\n",
    "elif option==2:\n",
    "    print(a-b)\n",
    "elif option==3:\n",
    "    print(a*b)\n",
    "else:\n",
    "    print(\"None\")"
   ]
  },
  {
   "cell_type": "code",
   "execution_count": 4,
   "metadata": {},
   "outputs": [
    {
     "name": "stdout",
     "output_type": "stream",
     "text": [
      "First value5\n",
      "Second value4\n",
      "enter your option3\n",
      "20\n"
     ]
    }
   ],
   "source": [
    "a=int(input(\"First value\"))\n",
    "b=int(input(\"Second value\"))                      ###Arthmetic operations\n",
    "option=int(input(\"enter your option\"))\n",
    "if option==1:\n",
    "    print(a+b)\n",
    "elif option==2:\n",
    "    print(a-b)\n",
    "elif option==3:\n",
    "    print(a*b)\n",
    "else:\n",
    "    print(\"None\")"
   ]
  },
  {
   "cell_type": "code",
   "execution_count": 5,
   "metadata": {},
   "outputs": [
    {
     "name": "stdout",
     "output_type": "stream",
     "text": [
      "First value5\n",
      "Second value4\n",
      "enter your option5\n",
      "None\n"
     ]
    }
   ],
   "source": [
    "a=int(input(\"First value\"))         ###Arthmetic operations\n",
    "b=int(input(\"Second value\"))\n",
    "option=int(input(\"enter your option\"))\n",
    "if option==1:\n",
    "    print(a+b)\n",
    "elif option==2:\n",
    "    print(a-b)\n",
    "elif option==3:\n",
    "    print(a*b)\n",
    "else:\n",
    "    print(\"None\")"
   ]
  },
  {
   "cell_type": "code",
   "execution_count": 6,
   "metadata": {},
   "outputs": [
    {
     "name": "stdout",
     "output_type": "stream",
     "text": [
      "Enter your option1\n",
      "2\n",
      "0.028\n"
     ]
    }
   ],
   "source": [
    "option=int(input(\"Enter your option\"))         ###Dollar to rupee and vice-versa\n",
    "if option==1:\n",
    "    rupee=int(input(\"\"))\n",
    "    print(rupee*0.014)\n",
    "else:\n",
    "    dollar=int(input(\"\"))\n",
    "    print(dollar*73)"
   ]
  },
  {
   "cell_type": "code",
   "execution_count": 7,
   "metadata": {},
   "outputs": [
    {
     "name": "stdout",
     "output_type": "stream",
     "text": [
      "Enter your option2\n",
      "2\n",
      "146\n"
     ]
    }
   ],
   "source": [
    "option=int(input(\"Enter your option\"))        ###Dollar to rupee and vice-versa\n",
    "if option==1:\n",
    "    rupee=int(input(\"\"))\n",
    "    print(rupee*0.014)\n",
    "else:\n",
    "    dollar=int(input(\"\"))\n",
    "    print(dollar*73)"
   ]
  },
  {
   "cell_type": "code",
   "execution_count": 10,
   "metadata": {},
   "outputs": [
    {
     "name": "stdout",
     "output_type": "stream",
     "text": [
      "Enter the value madam\n",
      "Palindrome\n"
     ]
    }
   ],
   "source": [
    "a=input(\"Enter the value \")   ###given String is a Palindrome or not \n",
    "if(a==a[::-1]):\n",
    "    print(\"Palindrome\")\n",
    "else:\n",
    "    print(\"Not a palindrome\")\n"
   ]
  },
  {
   "cell_type": "code",
   "execution_count": 1,
   "metadata": {},
   "outputs": [
    {
     "name": "stdout",
     "output_type": "stream",
     "text": [
      "1\n",
      "2\n",
      "3\n",
      "4\n"
     ]
    }
   ],
   "source": [
    "for i in range(1,5):       #### for loop\n",
    "    print(i)"
   ]
  },
  {
   "cell_type": "code",
   "execution_count": 3,
   "metadata": {},
   "outputs": [
    {
     "name": "stdout",
     "output_type": "stream",
     "text": [
      "enter the number8\n",
      "Even number \n"
     ]
    }
   ],
   "source": [
    "a=int(input(\"enter the number\"))      ###### Even or odd \n",
    "if (a%2==0):\n",
    "    print(\"Even number \")\n",
    "else:\n",
    "    print(\"odd number \")"
   ]
  },
  {
   "cell_type": "code",
   "execution_count": 1,
   "metadata": {},
   "outputs": [
    {
     "name": "stdout",
     "output_type": "stream",
     "text": [
      "121\n",
      "3\n"
     ]
    }
   ],
   "source": [
    "number=int(input())           ###### While loop \n",
    "count=0\n",
    "while number>0:                      ### counting number of integers in given input\n",
    "    count+=1\n",
    "    number=(number//10)\n",
    "print(count)"
   ]
  },
  {
   "cell_type": "code",
   "execution_count": 5,
   "metadata": {},
   "outputs": [
    {
     "name": "stdout",
     "output_type": "stream",
     "text": [
      "5\n"
     ]
    },
    {
     "ename": "IndexError",
     "evalue": "list index out of range",
     "output_type": "error",
     "traceback": [
      "\u001b[1;31m---------------------------------------------------------------------------\u001b[0m",
      "\u001b[1;31mIndexError\u001b[0m                                Traceback (most recent call last)",
      "\u001b[1;32m<ipython-input-5-521ea1856313>\u001b[0m in \u001b[0;36m<module>\u001b[1;34m\u001b[0m\n\u001b[0;32m      3\u001b[0m \u001b[0mmul\u001b[0m\u001b[1;33m=\u001b[0m\u001b[1;36m1\u001b[0m\u001b[1;33m\u001b[0m\u001b[1;33m\u001b[0m\u001b[0m\n\u001b[0;32m      4\u001b[0m \u001b[1;32mfor\u001b[0m \u001b[0mi\u001b[0m \u001b[1;32min\u001b[0m \u001b[0mrange\u001b[0m\u001b[1;33m(\u001b[0m\u001b[0mn\u001b[0m\u001b[1;33m)\u001b[0m\u001b[1;33m:\u001b[0m\u001b[1;33m\u001b[0m\u001b[1;33m\u001b[0m\u001b[0m\n\u001b[1;32m----> 5\u001b[1;33m     \u001b[0mmul\u001b[0m\u001b[1;33m=\u001b[0m\u001b[0mmul\u001b[0m\u001b[1;33m*\u001b[0m\u001b[0ma\u001b[0m\u001b[1;33m[\u001b[0m\u001b[0mi\u001b[0m\u001b[1;33m]\u001b[0m\u001b[1;33m\u001b[0m\u001b[1;33m\u001b[0m\u001b[0m\n\u001b[0m\u001b[0;32m      6\u001b[0m     \u001b[0ma\u001b[0m\u001b[1;33m.\u001b[0m\u001b[0mappend\u001b[0m\u001b[1;33m(\u001b[0m\u001b[0mint\u001b[0m\u001b[1;33m(\u001b[0m\u001b[0minput\u001b[0m\u001b[1;33m(\u001b[0m\u001b[1;33m)\u001b[0m\u001b[1;33m)\u001b[0m\u001b[1;33m)\u001b[0m\u001b[1;33m\u001b[0m\u001b[1;33m\u001b[0m\u001b[0m\n\u001b[0;32m      7\u001b[0m \u001b[0mprint\u001b[0m\u001b[1;33m(\u001b[0m\u001b[1;34m\"\"\u001b[0m\u001b[1;33m,\u001b[0m\u001b[0mmul\u001b[0m\u001b[1;33m)\u001b[0m\u001b[1;33m\u001b[0m\u001b[1;33m\u001b[0m\u001b[0m\n",
      "\u001b[1;31mIndexError\u001b[0m: list index out of range"
     ]
    }
   ],
   "source": [
    "a=[]\n",
    "n=int(input())\n",
    "mul=1\n",
    "for i in range(n):\n",
    "    mul=mul*a[i]\n",
    "    a.append(int(input()))\n",
    "print(\"\",mul)"
   ]
  },
  {
   "cell_type": "code",
   "execution_count": null,
   "metadata": {},
   "outputs": [],
   "source": []
  }
 ],
 "metadata": {
  "kernelspec": {
   "display_name": "Python 3",
   "language": "python",
   "name": "python3"
  },
  "language_info": {
   "codemirror_mode": {
    "name": "ipython",
    "version": 3
   },
   "file_extension": ".py",
   "mimetype": "text/x-python",
   "name": "python",
   "nbconvert_exporter": "python",
   "pygments_lexer": "ipython3",
   "version": "3.7.3"
  }
 },
 "nbformat": 4,
 "nbformat_minor": 2
}
