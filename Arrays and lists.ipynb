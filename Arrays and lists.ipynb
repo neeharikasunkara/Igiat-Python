{
 "cells": [
  {
   "cell_type": "code",
   "execution_count": 5,
   "metadata": {},
   "outputs": [
    {
     "name": "stdout",
     "output_type": "stream",
     "text": [
      "1  2  3  4  5  "
     ]
    }
   ],
   "source": [
    "#### Array:\n",
    "a=[1,2,3,4,5]\n",
    "for i in a:\n",
    "    print(i,end=\"  \")"
   ]
  },
  {
   "cell_type": "code",
   "execution_count": 6,
   "metadata": {},
   "outputs": [
    {
     "name": "stdout",
     "output_type": "stream",
     "text": [
      "2\n",
      "mounika\n",
      "niharika\n",
      "['mounika', 'niharika']\n"
     ]
    }
   ],
   "source": [
    "arry=[]      ######## Empty array\n",
    "n=int(input())\n",
    "for i in range(n):\n",
    "# value=input()\n",
    "    arry.append(input())     ###### append is used to store the empty values\n",
    "print(arry)"
   ]
  },
  {
   "cell_type": "code",
   "execution_count": 7,
   "metadata": {},
   "outputs": [
    {
     "name": "stdout",
     "output_type": "stream",
     "text": [
      "mounika\n",
      "niharika\n"
     ]
    }
   ],
   "source": [
    "for i in arry:      ###### To print individual elements that are present in array\n",
    "    print(i)"
   ]
  },
  {
   "cell_type": "code",
   "execution_count": 8,
   "metadata": {},
   "outputs": [
    {
     "name": "stdout",
     "output_type": "stream",
     "text": [
      "4\n",
      "1\n",
      "2\n",
      "3\n",
      "4\n",
      "Sum of the elements in an array=  10\n"
     ]
    }
   ],
   "source": [
    "arry=[]                 ####### Sum of elements in an array--- method 1\n",
    "n=int(input())\n",
    "sum=0\n",
    "for i in range(n):\n",
    "    arry.append(input())\n",
    "    sum=sum+a[i]\n",
    "print(\"Sum of the elements in an array= \",sum)"
   ]
  },
  {
   "cell_type": "code",
   "execution_count": 1,
   "metadata": {},
   "outputs": [
    {
     "name": "stdout",
     "output_type": "stream",
     "text": [
      "3\n",
      "1\n",
      "2\n",
      "3\n",
      "6\n"
     ]
    }
   ],
   "source": [
    "r=int(input())        ###### Sum of elements in array method - 2\n",
    "arry=[]\n",
    "for i in range(r):\n",
    "    arry.append(int(input()))\n",
    "print(sum(arry))"
   ]
  },
  {
   "cell_type": "code",
   "execution_count": 2,
   "metadata": {},
   "outputs": [
    {
     "name": "stdout",
     "output_type": "stream",
     "text": [
      "neharik\n"
     ]
    }
   ],
   "source": [
    "s=\"neeharika\"                    ###### Deletion of repeated elements in an array\n",
    "s1=\"\"\n",
    "for i in s:\n",
    "    if i not in s1:\n",
    "        s1+=i\n",
    "print(s1)                     \n",
    "\n",
    "#### In output neeharika, e & a are repeated,hence o/p is neharik"
   ]
  },
  {
   "cell_type": "code",
   "execution_count": 8,
   "metadata": {},
   "outputs": [
    {
     "name": "stdout",
     "output_type": "stream",
     "text": [
      "<reversed object at 0x00000086D5F70898>\n"
     ]
    }
   ],
   "source": [
    "array=\"neeharika\"\n",
    "print(reversed(array))"
   ]
  },
  {
   "cell_type": "code",
   "execution_count": null,
   "metadata": {},
   "outputs": [],
   "source": []
  }
 ],
 "metadata": {
  "kernelspec": {
   "display_name": "Python 3",
   "language": "python",
   "name": "python3"
  },
  "language_info": {
   "codemirror_mode": {
    "name": "ipython",
    "version": 3
   },
   "file_extension": ".py",
   "mimetype": "text/x-python",
   "name": "python",
   "nbconvert_exporter": "python",
   "pygments_lexer": "ipython3",
   "version": "3.7.3"
  }
 },
 "nbformat": 4,
 "nbformat_minor": 2
}
