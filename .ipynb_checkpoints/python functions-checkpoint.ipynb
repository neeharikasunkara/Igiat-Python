{
 "cells": [
  {
   "cell_type": "code",
   "execution_count": null,
   "metadata": {},
   "outputs": [],
   "source": [
    "def addition(a,b):\n",
    "    print(a+b)\n",
    "addition(4,5)"
   ]
  },
  {
   "cell_type": "code",
   "execution_count": null,
   "metadata": {},
   "outputs": [],
   "source": [
    "def iseven(a):        ###### Even or odd using functions\n",
    "    if a%2==0:\n",
    "        print(\"Even \")\n",
    "    else:\n",
    "        print(\"Odd \")\n",
    "iseven(a)"
   ]
  },
  {
   "cell_type": "code",
   "execution_count": null,
   "metadata": {},
   "outputs": [],
   "source": [
    "def averagenum(n):            ########## Average of n natural numbers \n",
    "    sum=n*(n+1)/2\n",
    "    print(int(sum//n))   ## floor value\n",
    "range=int(input())\n",
    "averagenum(range)"
   ]
  },
  {
   "cell_type": "code",
   "execution_count": null,
   "metadata": {},
   "outputs": [],
   "source": [
    "def square2numbers(a,b):            ######### Square of 2 numbers(a+b)^2\n",
    "    square=((a*a)+(b*b)+2*a*b)\n",
    "    print(\"square of a\",\"\",\"b\",\"is\",square)\n",
    "n=int(input())\n",
    "m=int(input())\n",
    "square2numbers(n,m)"
   ]
  },
  {
   "cell_type": "code",
   "execution_count": null,
   "metadata": {},
   "outputs": [],
   "source": [
    "def isprime(n):           ####### Prime number or not\n",
    "    status=0\n",
    "    for i in range(2,(n//2)+1):\n",
    "        if (n%i==0):\n",
    "            status=1\n",
    "    if (status==0):\n",
    "        print(\"It is a prime number \")\n",
    "    else:\n",
    "        print(\"It is not a prime  number \")\n",
    "r=int(input())\n",
    "isprime(r)"
   ]
  },
  {
   "cell_type": "code",
   "execution_count": 3,
   "metadata": {
    "scrolled": true
   },
   "outputs": [
    {
     "name": "stdout",
     "output_type": "stream",
     "text": [
      "7\n",
      "Factorial of a given number  5040\n"
     ]
    }
   ],
   "source": [
    "def fact(n):             #### factorial of a number \n",
    "    fact=1\n",
    "    for i in range(1,n+1):\n",
    "        fact=fact*i\n",
    "    print(\"Factorial of a given number \", fact)\n",
    "r=int(input())\n",
    "fact(r)"
   ]
  },
  {
   "cell_type": "code",
   "execution_count": null,
   "metadata": {},
   "outputs": [],
   "source": []
  }
 ],
 "metadata": {
  "kernelspec": {
   "display_name": "Python 3",
   "language": "python",
   "name": "python3"
  },
  "language_info": {
   "codemirror_mode": {
    "name": "ipython",
    "version": 3
   },
   "file_extension": ".py",
   "mimetype": "text/x-python",
   "name": "python",
   "nbconvert_exporter": "python",
   "pygments_lexer": "ipython3",
   "version": "3.7.3"
  }
 },
 "nbformat": 4,
 "nbformat_minor": 2
}
