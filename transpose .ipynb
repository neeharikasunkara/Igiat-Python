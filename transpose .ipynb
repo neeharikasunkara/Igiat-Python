{
 "cells": [
  {
   "cell_type": "code",
   "execution_count": 1,
   "metadata": {},
   "outputs": [
    {
     "name": "stdout",
     "output_type": "stream",
     "text": [
      "[1, 4, 7]\n",
      "[2, 5, 8]\n",
      "[3, 6, 9]\n"
     ]
    }
   ],
   "source": [
    "x=[1,2,3],[4,5,6],[7,8,9]     ### Transpose of a matrix\n",
    "transpose=[[x[j][i] for j in range(len(x))] for i in range(len(x[0]))]\n",
    "for k in transpose:\n",
    "    print(k)"
   ]
  },
  {
   "cell_type": "code",
   "execution_count": 3,
   "metadata": {},
   "outputs": [
    {
     "name": "stdout",
     "output_type": "stream",
     "text": [
      "[1, 4]\n",
      "[2, 5]\n",
      "[3, 6]\n"
     ]
    }
   ],
   "source": [
    "x=[[1,2,3],[4,5,6]]            #### Transpose of a matrix dynamically\n",
    "transpose=[]\n",
    "for j in range(len(x[0])):\n",
    "    iteration=[]\n",
    "    for i in range(len(x)):\n",
    "        iteration.append(0)\n",
    "    transpose.append(iteration)\n",
    "for i in range(len(x)):\n",
    "    for j in range(len(x[0])):\n",
    "        transpose[j][i]=x[i][j]\n",
    "for l in transpose:\n",
    "    print(l)"
   ]
  },
  {
   "cell_type": "code",
   "execution_count": null,
   "metadata": {},
   "outputs": [],
   "source": []
  }
 ],
 "metadata": {
  "kernelspec": {
   "display_name": "Python 3",
   "language": "python",
   "name": "python3"
  },
  "language_info": {
   "codemirror_mode": {
    "name": "ipython",
    "version": 3
   },
   "file_extension": ".py",
   "mimetype": "text/x-python",
   "name": "python",
   "nbconvert_exporter": "python",
   "pygments_lexer": "ipython3",
   "version": "3.7.3"
  }
 },
 "nbformat": 4,
 "nbformat_minor": 2
}
